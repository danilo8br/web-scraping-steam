{
 "cells": [
  {
   "cell_type": "markdown",
   "metadata": {},
   "source": [
    "### Web Scraping Steam\n",
    "\n",
    "O objetivo do projeto e pegar os dados na parte de \"Novidades e Populares\" da Steam e enviar para um arquivo csv.\n",
    "\n",
    "Tudo isso foi feito utilizando a linguagem Python"
   ]
  },
  {
   "cell_type": "markdown",
   "metadata": {},
   "source": [
    "#### Importando Bibliotecas "
   ]
  },
  {
   "cell_type": "code",
   "execution_count": null,
   "metadata": {},
   "outputs": [],
   "source": [
    "from selenium import webdriver\n",
    "from time import sleep"
   ]
  },
  {
   "cell_type": "markdown",
   "metadata": {},
   "source": [
    "#### Fazendo interação com o Chrome e pegando a página que iremos coletar os dados"
   ]
  },
  {
   "cell_type": "code",
   "execution_count": null,
   "metadata": {},
   "outputs": [],
   "source": [
    "driver = webdriver.Chrome('chromedriver')\n",
    "driver.get('https://store.steampowered.com/games/?l=brazilian')"
   ]
  },
  {
   "cell_type": "markdown",
   "metadata": {},
   "source": [
    "#### Nesta parte do código tem 4 passos:\n",
    "\n",
    "- Enviar dados para o arquivo steam.csv (caso não houver o arquivo, ele criará).\n",
    "- Pegar o xpath do nome, preço, desconto e descrição dos jogos.\n",
    "- Escrever os dados coletados no arquivo.\n",
    "- Pegar o xpath da próxima página."
   ]
  },
  {
   "cell_type": "code",
   "execution_count": null,
   "metadata": {},
   "outputs": [],
   "source": [
    "def le_jogos():\n",
    "    with open('steam.csv','a', encoding='utf-8') as file:\n",
    "        for c in range(1, 16):\n",
    "            nome = driver.find_element_by_xpath(f'//*[@id=\"NewReleasesRows\"]/a[{c}]/div[3]/div[1]').text\n",
    "            try:\n",
    "                preco = driver.find_element_by_xpath(f'//*[@id=\"NewReleasesRows\"]/a[{c}]/div[2]/div[2]/div[2]').text\n",
    "            except:\n",
    "                preco = driver.find_element_by_xpath(f'//*[@id=\"NewReleasesRows\"]/a[{c}]/div[2]/div/div').text\n",
    "            desconto = driver. find_element_by_xpath(f'//*[@id=\"NewReleasesRows\"]/a[{c}]/div[2]/div[1]').text\n",
    "            descricao = driver.find_element_by_xpath(f'//*[@id=\"NewReleasesRows\"]/a[{c}]/div[3]/div[2]/div').text\n",
    "            file.write(nome+'; '+preco+'; '+desconto+'; '+descricao+\"\\n\")\n",
    "            \n",
    "def clica():\n",
    "    driver.find_element_by_xpath('//*[@id=\"NewReleases_btn_next\"]').click"
   ]
  },
  {
   "cell_type": "markdown",
   "metadata": {},
   "source": [
    "#### Chamando as funções que ficarão pegando os dados e a cada 5 segundos, ele muda de pagina."
   ]
  },
  {
   "cell_type": "code",
   "execution_count": null,
   "metadata": {},
   "outputs": [],
   "source": [
    "while True:\n",
    "    le_jogos()\n",
    "    sleep(5)\n",
    "    clica()"
   ]
  },
  {
   "cell_type": "code",
   "execution_count": null,
   "metadata": {},
   "outputs": [],
   "source": []
  }
 ],
 "metadata": {
  "kernelspec": {
   "display_name": "Python 3",
   "language": "python",
   "name": "python3"
  },
  "language_info": {
   "codemirror_mode": {
    "name": "ipython",
    "version": 3
   },
   "file_extension": ".py",
   "mimetype": "text/x-python",
   "name": "python",
   "nbconvert_exporter": "python",
   "pygments_lexer": "ipython3",
   "version": "3.8.5"
  }
 },
 "nbformat": 4,
 "nbformat_minor": 4
}
